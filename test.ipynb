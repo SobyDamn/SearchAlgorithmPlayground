{
 "cells": [
  {
   "cell_type": "code",
   "execution_count": 17,
   "source": [
    "class A:\n",
    "    def __init__(self,a):\n",
    "        self.a = a\n",
    "    def __str__(self):\n",
    "        return \"<a = \"+str(self.a)+\">\"\n",
    "\n",
    "class B(A):\n",
    "    def __init__(self, a:A,b):\n",
    "        self.b = b\n",
    "        super().__init__(a)\n",
    "    def setVal(self,x):\n",
    "        self.b = x\n",
    "    def __str__(self):\n",
    "        return \"<a = \"+str(self.a)+\" b = \"+str(self.b)+\">\""
   ],
   "outputs": [],
   "metadata": {}
  },
  {
   "cell_type": "code",
   "execution_count": 15,
   "source": [
    "def genLabel(label = \"\"):\n",
    "    revL = [char for char in label[::-1]]\n",
    "    n = len(revL)\n",
    "    if n==0:\n",
    "        return 'A'\n",
    "    found = False\n",
    "    for i in range(0,n):\n",
    "        nextChar = chr(ord(revL[i])+1)\n",
    "        if(nextChar <= 'Z'):\n",
    "            found = True\n",
    "            revL[i] = nextChar\n",
    "            break\n",
    "        else:\n",
    "            revL[i] = 'A'\n",
    "    if not found:\n",
    "        revL.append('A')\n",
    "    return ''.join(revL[::-1])"
   ],
   "outputs": [],
   "metadata": {}
  },
  {
   "cell_type": "code",
   "execution_count": 16,
   "source": [
    "label = \"\"\n",
    "for i in range(0,1000):\n",
    "    label = genLabel(label)\n",
    "    print(label)"
   ],
   "outputs": [
    {
     "output_type": "stream",
     "name": "stdout",
     "text": [
      "A\n",
      "B\n",
      "C\n",
      "D\n",
      "E\n",
      "F\n",
      "G\n",
      "H\n",
      "I\n",
      "J\n",
      "K\n",
      "L\n",
      "M\n",
      "N\n",
      "O\n",
      "P\n",
      "Q\n",
      "R\n",
      "S\n",
      "T\n",
      "U\n",
      "V\n",
      "W\n",
      "X\n",
      "Y\n",
      "Z\n",
      "AA\n",
      "AB\n",
      "AC\n",
      "AD\n",
      "AE\n",
      "AF\n",
      "AG\n",
      "AH\n",
      "AI\n",
      "AJ\n",
      "AK\n",
      "AL\n",
      "AM\n",
      "AN\n",
      "AO\n",
      "AP\n",
      "AQ\n",
      "AR\n",
      "AS\n",
      "AT\n",
      "AU\n",
      "AV\n",
      "AW\n",
      "AX\n",
      "AY\n",
      "AZ\n",
      "BA\n",
      "BB\n",
      "BC\n",
      "BD\n",
      "BE\n",
      "BF\n",
      "BG\n",
      "BH\n",
      "BI\n",
      "BJ\n",
      "BK\n",
      "BL\n",
      "BM\n",
      "BN\n",
      "BO\n",
      "BP\n",
      "BQ\n",
      "BR\n",
      "BS\n",
      "BT\n",
      "BU\n",
      "BV\n",
      "BW\n",
      "BX\n",
      "BY\n",
      "BZ\n",
      "CA\n",
      "CB\n",
      "CC\n",
      "CD\n",
      "CE\n",
      "CF\n",
      "CG\n",
      "CH\n",
      "CI\n",
      "CJ\n",
      "CK\n",
      "CL\n",
      "CM\n",
      "CN\n",
      "CO\n",
      "CP\n",
      "CQ\n",
      "CR\n",
      "CS\n",
      "CT\n",
      "CU\n",
      "CV\n"
     ]
    }
   ],
   "metadata": {}
  },
  {
   "cell_type": "code",
   "execution_count": 5,
   "source": [
    "ord('A')"
   ],
   "outputs": [
    {
     "output_type": "error",
     "ename": "TypeError",
     "evalue": "ord() expected a character, but string of length 2 found",
     "traceback": [
      "\u001b[0;31m---------------------------------------------------------------------------\u001b[0m",
      "\u001b[0;31mTypeError\u001b[0m                                 Traceback (most recent call last)",
      "\u001b[0;32m<ipython-input-5-01dec11e819e>\u001b[0m in \u001b[0;36m<module>\u001b[0;34m\u001b[0m\n\u001b[0;32m----> 1\u001b[0;31m \u001b[0mord\u001b[0m\u001b[0;34m(\u001b[0m\u001b[0;34m'AA'\u001b[0m\u001b[0;34m)\u001b[0m\u001b[0;34m\u001b[0m\u001b[0;34m\u001b[0m\u001b[0m\n\u001b[0m",
      "\u001b[0;31mTypeError\u001b[0m: ord() expected a character, but string of length 2 found"
     ]
    }
   ],
   "metadata": {}
  },
  {
   "cell_type": "code",
   "execution_count": null,
   "source": [],
   "outputs": [],
   "metadata": {}
  }
 ],
 "metadata": {
  "interpreter": {
   "hash": "767d51c1340bd893661ea55ea3124f6de3c7a262a8b4abca0554b478b1e2ff90"
  },
  "kernelspec": {
   "name": "python3",
   "display_name": "Python 3.6.9 64-bit"
  },
  "language_info": {
   "codemirror_mode": {
    "name": "ipython",
    "version": 3
   },
   "file_extension": ".py",
   "mimetype": "text/x-python",
   "name": "python",
   "nbconvert_exporter": "python",
   "pygments_lexer": "ipython3",
   "version": "3.6.9"
  },
  "orig_nbformat": 4
 },
 "nbformat": 4,
 "nbformat_minor": 2
}